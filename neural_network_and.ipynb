{
 "cells": [
  {
   "cell_type": "code",
   "execution_count": 8,
   "metadata": {},
   "outputs": [
    {
     "name": "stdout",
     "output_type": "stream",
     "text": [
      "[[ 0.   0.   0.   0.8  0.6  0.   0.   0. ]\n",
      " [ 1.   0.   0.   0.6  0.6  1.  -0.2 -0. ]\n",
      " [ 0.   1.   0.   0.6  0.6  0.   0.   0. ]\n",
      " [ 1.   1.   1.   0.6  0.6  1.   0.   0. ]\n",
      " [ 0.   0.   0.   0.6  0.6  0.   0.   0. ]\n",
      " [ 1.   0.   0.   0.6  0.6  0.   0.   0. ]\n",
      " [ 0.   1.   0.   0.6  0.6  0.   0.   0. ]\n",
      " [ 1.   1.   1.   0.6  0.6  1.   0.   0. ]\n",
      " [ 0.   0.   0.   0.6  0.6  0.   0.   0. ]\n",
      " [ 1.   0.   0.   0.6  0.6  0.   0.   0. ]\n",
      " [ 0.   1.   0.   0.6  0.6  0.   0.   0. ]\n",
      " [ 1.   1.   1.   0.6  0.6  1.   0.   0. ]\n",
      " [ 0.   0.   0.   0.6  0.6  0.   0.   0. ]\n",
      " [ 1.   0.   0.   0.6  0.6  0.   0.   0. ]\n",
      " [ 0.   1.   0.   0.6  0.6  0.   0.   0. ]\n",
      " [ 1.   1.   1.   0.6  0.6  1.   0.   0. ]\n",
      " [ 0.   0.   0.   0.6  0.6  0.   0.   0. ]\n",
      " [ 1.   0.   0.   0.6  0.6  0.   0.   0. ]\n",
      " [ 0.   1.   0.   0.6  0.6  0.   0.   0. ]\n",
      " [ 1.   1.   1.   0.6  0.6  1.   0.   0. ]\n",
      " [ 0.   0.   0.   0.6  0.6  0.   0.   0. ]\n",
      " [ 1.   0.   0.   0.6  0.6  0.   0.   0. ]\n",
      " [ 0.   1.   0.   0.6  0.6  0.   0.   0. ]\n",
      " [ 1.   1.   1.   0.6  0.6  1.   0.   0. ]\n",
      " [ 0.   0.   0.   0.6  0.6  0.   0.   0. ]\n",
      " [ 1.   0.   0.   0.6  0.6  0.   0.   0. ]\n",
      " [ 0.   1.   0.   0.6  0.6  0.   0.   0. ]\n",
      " [ 1.   1.   1.   0.6  0.6  1.   0.   0. ]\n",
      " [ 0.   0.   0.   0.6  0.6  0.   0.   0. ]\n",
      " [ 1.   0.   0.   0.6  0.6  0.   0.   0. ]\n",
      " [ 0.   1.   0.   0.6  0.6  0.   0.   0. ]\n",
      " [ 1.   1.   1.   0.6  0.6  1.   0.   0. ]\n",
      " [ 0.   0.   0.   0.6  0.6  0.   0.   0. ]\n",
      " [ 1.   0.   0.   0.6  0.6  0.   0.   0. ]\n",
      " [ 0.   1.   0.   0.6  0.6  0.   0.   0. ]\n",
      " [ 1.   1.   1.   0.6  0.6  1.   0.   0. ]\n",
      " [ 0.   0.   0.   0.6  0.6  0.   0.   0. ]\n",
      " [ 1.   0.   0.   0.6  0.6  0.   0.   0. ]\n",
      " [ 0.   1.   0.   0.6  0.6  0.   0.   0. ]\n",
      " [ 1.   1.   1.   0.6  0.6  1.   0.   0. ]]\n"
     ]
    }
   ],
   "source": [
    "import random\n",
    "import numpy as np\n",
    "\n",
    "input_list = np.array([[0,0],[1,0],[0,1],[1,1]])\n",
    "label = []\n",
    "for x in input_list:\n",
    "    label.append(x[0] and x[1])\n",
    "    \n",
    "def step(X, T = 0.7):\n",
    "    if X >= T:\n",
    "        return 1\n",
    "    else:\n",
    "        return 0\n",
    "\n",
    "def culc_delta(label, estimated, input_num, learning_rate=0.2): \n",
    "    return learning_rate*(label-estimated)*input_num\n",
    "    \n",
    "w1 = round(random.random(), 1)\n",
    "w2 = round(random.random(), 1)\n",
    "\n",
    "weight_log = []\n",
    "for y in range(10):\n",
    "    for i,x in enumerate(input_list):\n",
    "        X = x[0]*w1 + x[1]*w2\n",
    "        result = step(X)\n",
    "        delta_w1 = culc_delta(label[i], result, x[0])\n",
    "        w1 += delta_w1\n",
    "        delta_w2 = culc_delta(label[i], result, x[1])\n",
    "        w2 += delta_w2\n",
    "        weight_log.append([x[0], x[1],label[i], w1, w2,  result, delta_w1, delta_w2])\n",
    "\n",
    "weight_log = np.array(weight_log)\n",
    "print(weight_log)"
   ]
  },
  {
   "cell_type": "code",
   "execution_count": null,
   "metadata": {},
   "outputs": [],
   "source": []
  }
 ],
 "metadata": {
  "kernelspec": {
   "display_name": "Python 3",
   "language": "python",
   "name": "python3"
  },
  "language_info": {
   "codemirror_mode": {
    "name": "ipython",
    "version": 3
   },
   "file_extension": ".py",
   "mimetype": "text/x-python",
   "name": "python",
   "nbconvert_exporter": "python",
   "pygments_lexer": "ipython3",
   "version": "3.7.6"
  }
 },
 "nbformat": 4,
 "nbformat_minor": 4
}
