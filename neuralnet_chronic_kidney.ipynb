{
 "cells": [
  {
   "cell_type": "code",
   "execution_count": 8,
   "metadata": {},
   "outputs": [],
   "source": [
    "%matplotlib inline\n",
    "import numpy as np\n",
    "import pandas as pd\n",
    "from sklearn.datasets import load_iris\n",
    "from sklearn import preprocessing\n",
    "from sklearn.model_selection import train_test_split\n",
    "from tqdm import tqdm\n",
    "import matplotlib.pyplot as plt\n",
    "from collections import OrderedDict\n",
    "from sklearn.metrics import confusion_matrix"
   ]
  },
  {
   "cell_type": "markdown",
   "metadata": {},
   "source": [
    "## 全結合層"
   ]
  },
  {
   "cell_type": "code",
   "execution_count": 9,
   "metadata": {},
   "outputs": [],
   "source": [
    "class Linear:\n",
    "    def __init__(self, W, b):\n",
    "        self.W = W\n",
    "        self.b = b\n",
    "        self.x = None\n",
    "        self.dW = None\n",
    "        self.db = None\n",
    "        \n",
    "    def forward(self, x):\n",
    "        self.x = x\n",
    "        out = np.dot(self.x, self.W) + self.b\n",
    "        return out\n",
    "    \n",
    "    def backward(self, dout):\n",
    "        dx = np.dot(dout, self.W.T)\n",
    "        #self.dW = np.dot(self.x[None,:].T, dout[None,:])\n",
    "        self.dW = np.dot(self.x.T, dout)\n",
    "        self.db = np.sum(dout, axis=0)\n",
    "        return dx"
   ]
  },
  {
   "cell_type": "markdown",
   "metadata": {},
   "source": [
    "## sigmoid関数"
   ]
  },
  {
   "cell_type": "code",
   "execution_count": 10,
   "metadata": {},
   "outputs": [],
   "source": [
    "class Sigmoid:\n",
    "    def __init__(self):\n",
    "        self.out = None\n",
    "    \n",
    "    def forward(self, x):\n",
    "        out = 1/ (1 + np.exp(-x))\n",
    "        self.out = out\n",
    "        return out\n",
    "    \n",
    "    def backward(self, dout):\n",
    "        dx = dout * (1 - self.out) * self.out\n",
    "        return dx"
   ]
  },
  {
   "cell_type": "markdown",
   "metadata": {},
   "source": [
    "## Relu関数"
   ]
  },
  {
   "cell_type": "code",
   "execution_count": 11,
   "metadata": {},
   "outputs": [],
   "source": [
    "class Relu:\n",
    "    def __init__(self):\n",
    "        self.mask = None\n",
    "        \n",
    "    def forward(self, x):\n",
    "        self.mask = (x <= 0)\n",
    "        out = x.copy()\n",
    "        out[self.mask] = 0\n",
    "        \n",
    "        return out\n",
    "    \n",
    "    def backward(self, dout):\n",
    "        dout[self.mask] = 0\n",
    "        dx = dout\n",
    "        \n",
    "        return dx"
   ]
  },
  {
   "cell_type": "markdown",
   "metadata": {},
   "source": [
    "## ネットワーク全体のクラス"
   ]
  },
  {
   "cell_type": "code",
   "execution_count": 12,
   "metadata": {},
   "outputs": [],
   "source": [
    "class MLP_init:\n",
    "    def __init__(self, input_size, hidden_size, output_size):\n",
    "        self.params = {}\n",
    "        self.params['W1'] = np.random.randn(input_size, hidden_size)\n",
    "        self.params['b1'] = np.random.randn(hidden_size)\n",
    "        self.params['W2'] = np.random.randn(hidden_size, output_size)\n",
    "        self.params['b2'] = np.random.randn(output_size)\n",
    "        \n",
    "        self.layers = OrderedDict()\n",
    "        self.layers['Linear1'] = Linear(self.params['W1'], self.params['b1'])\n",
    "        self.layers['Sigmoid1'] = Sigmoid()\n",
    "        self.layers['Linear2'] = Linear(self.params['W2'], self.params['b2'])\n",
    "        self.layers['Sigmoid2'] = Sigmoid()\n",
    "    \n",
    "    def predict(self, x):\n",
    "        for layer in self.layers.values():\n",
    "            x = layer.forward(x)\n",
    "        return x\n",
    "    \n",
    "    def loss(self, x, t):\n",
    "        if type(t) != np.ndarray or type(t) != list:\n",
    "            t = np.array(t, dtype = int)\n",
    "            t = np.eye(2)[t]\n",
    "        y = self.predict(x)\n",
    "        return 1/2 * np.sum((y - t) ** 2)\n",
    "    \n",
    "    \n",
    "    def accuracy(self, x, t):\n",
    "        y = np.argmax(self.predict(x), axis = 1)\n",
    "        acc = np.sum(y == t)/float(x.shape[0])\n",
    "        return acc\n",
    "        \n",
    "    \n",
    "    def gradient(self, x, t):\n",
    "        #backward\n",
    "        if type(t) != np.ndarray or type(t) != list:\n",
    "            t = np.array(t, dtype = int)\n",
    "            t = np.eye(2)[t]\n",
    "        dout = self.predict(x) - t\n",
    "        layers = list(self.layers.values())\n",
    "        layers.reverse()\n",
    "        for layer in layers:\n",
    "            dout = layer.backward(dout)\n",
    "            \n",
    "        grads = {}\n",
    "        grads['W1'] = self.layers['Linear1'].dW\n",
    "        grads['b1'] = self.layers['Linear1'].db\n",
    "        grads['W2'] = self.layers['Linear2'].dW\n",
    "        grads['b2'] = self.layers['Linear2'].db\n",
    "        \n",
    "        return grads"
   ]
  },
  {
   "cell_type": "markdown",
   "metadata": {},
   "source": [
    "## データの環境\n",
    "@attribute 'age' numeric<br>\n",
    "@attribute 'bp'  numeric<br>\n",
    "@attribute 'sg' {1.005,1.010,1.015,1.020,1.025}<br>\n",
    "@attribute 'al' {0,1,2,3,4,5}<br>\n",
    "@attribute 'su' {0,1,2,3,4,5}<br>\n",
    "@attribute 'rbc' {normal,abnormal} -> 0, 1<br>\n",
    "@attribute 'pc' {normal,abnormal} -> 0, 1<br>\n",
    "@attribute 'pcc' {present,notpresent} -> 1, 0<br>\n",
    "@attribute 'ba' {present,notpresent} -> 1, 0<br>\n",
    "@attribute 'bgr'  numeric<br>\n",
    "@attribute 'bu' numeric<br>\n",
    "@attribute 'sc' numeric<br>\n",
    "@attribute 'sod' numeric<br>\n",
    "@attribute 'pot' numeric<br>\n",
    "@attribute 'hemo' numeric<br>\n",
    "@attribute 'pcv' numeric<br>\n",
    "@attribute 'wbcc' numeric<br>\n",
    "@attribute 'rbcc' numeric<br>\n",
    "@attribute 'htn' {yes,no} -> 1, 0<br>\n",
    "@attribute 'dm' {yes,no} -> 1, 0<br>\n",
    "@attribute 'cad' {yes,no} -> 1, 0<br>\n",
    "@attribute 'appet' {good,poor}  -> 1, 0<br>\n",
    "@attribute 'pe' {yes,no}  -> 1, 0<br>\n",
    "@attribute 'ane' {yes,no} -> 1, 0<br>\n",
    "@attribute 'class' {ckd,notckd} -> 1, 0<br>\n"
   ]
  },
  {
   "cell_type": "markdown",
   "metadata": {},
   "source": [
    "## データインポート"
   ]
  },
  {
   "cell_type": "markdown",
   "metadata": {},
   "source": [
    "### 未入力値は0に設定"
   ]
  },
  {
   "cell_type": "code",
   "execution_count": 125,
   "metadata": {},
   "outputs": [],
   "source": [
    "file_path = \"/Users/isonoyuma/python_workspace/work_later/data_set/chronic_kidney_disease_dataset/chronic_kidney_disease.arff\"\n",
    "\n",
    "data = np.zeros([400, 24])\n",
    "label = np.zeros(400)\n",
    "\n",
    "with open(file_path, newline=\"\")as f:\n",
    "    s = [s.strip() for s in f.readlines()]\n",
    "    s = [x.split(\",\") for x in s[29:429]]\n",
    "for i,x in enumerate(s):\n",
    "    for j, y in enumerate(x):\n",
    "        if y == \"?\":\n",
    "            s[i][j] = 0\n",
    "        elif y == \"normal\":\n",
    "            s[i][j] = 0\n",
    "        elif y == \"abnormal\":\n",
    "            s[i][j] = 1\n",
    "        elif y == \"present\":\n",
    "            s[i][j] = 1\n",
    "        elif y == \"notpresent\":\n",
    "            s[i][j] = 0\n",
    "        elif y == \"yes\":\n",
    "            s[i][j] = 1\n",
    "        elif y == \"no\":\n",
    "            s[i][j] = 0\n",
    "        elif y == \"good\":\n",
    "            s[i][j] = 1\n",
    "        elif y == \"poor\":\n",
    "            s[i][j] = 0\n",
    "        elif y == \"ckd\":\n",
    "            label[i] = 1\n",
    "            s[i].pop(j)\n",
    "        elif y == \"notckd\":\n",
    "            label[i] = 0\n",
    "            s[i].pop(j)\n",
    "        else:\n",
    "            s[i][j] = float(s[i][j])\n",
    "        \n",
    "        \n",
    "        \n",
    "for i, x in enumerate(s):\n",
    "    data[i,:] = x\n",
    "\n",
    "    \n",
    "data = preprocessing.scale(data)"
   ]
  },
  {
   "cell_type": "markdown",
   "metadata": {},
   "source": [
    "## 未入力値ゼロにしたデータから、平均値か中央値を取り、再度データをインポートし、未入力値を平均値に置き換える。"
   ]
  },
  {
   "cell_type": "code",
   "execution_count": 128,
   "metadata": {},
   "outputs": [],
   "source": [
    "#mean_list = np.mean(data, axis = 0)#未入力値は平均値とする\n",
    "median_list = np.median(data, axis = 0)#未入力値は中央値とする\n",
    "file_path = \"/Users/isonoyuma/python_workspace/work_later/data_set/chronic_kidney_disease_dataset/chronic_kidney_disease.arff\"\n",
    "\n",
    "data = np.zeros([400, 24])\n",
    "label = np.zeros(400)\n",
    "\n",
    "with open(file_path, newline=\"\")as f:\n",
    "    s = [s.strip() for s in f.readlines()]\n",
    "    s = [x.split(\",\") for x in s[29:429]]\n",
    "for i,x in enumerate(s):\n",
    "    for j, y in enumerate(x):\n",
    "        if y == \"?\":\n",
    "            #s[i][j] = mean_list[j]\n",
    "            s[i][j] = median_list[j]\n",
    "        elif y == \"normal\":\n",
    "            s[i][j] = 0\n",
    "        elif y == \"abnormal\":\n",
    "            s[i][j] = 1\n",
    "        elif y == \"present\":\n",
    "            s[i][j] = 1\n",
    "        elif y == \"notpresent\":\n",
    "            s[i][j] = 0\n",
    "        elif y == \"yes\":\n",
    "            s[i][j] = 1\n",
    "        elif y == \"no\":\n",
    "            s[i][j] = 0\n",
    "        elif y == \"good\":\n",
    "            s[i][j] = 1\n",
    "        elif y == \"poor\":\n",
    "            s[i][j] = 0\n",
    "        elif y == \"ckd\":\n",
    "            label[i] = 1\n",
    "            s[i].pop(j)\n",
    "        elif y == \"notckd\":\n",
    "            label[i] = 0\n",
    "            s[i].pop(j)\n",
    "        else:\n",
    "            s[i][j] = float(s[i][j])\n",
    "        \n",
    "        \n",
    "        \n",
    "for i, x in enumerate(s):\n",
    "    data[i,:] = x\n",
    "\n",
    "    \n",
    "data = preprocessing.scale(data)"
   ]
  },
  {
   "cell_type": "code",
   "execution_count": 129,
   "metadata": {},
   "outputs": [
    {
     "name": "stderr",
     "output_type": "stream",
     "text": [
      " 11%|█         | 1103/10000 [00:00<00:01, 5478.80it/s]"
     ]
    },
    {
     "name": "stdout",
     "output_type": "stream",
     "text": [
      "0.5291666666666667\n",
      "1.0\n"
     ]
    },
    {
     "name": "stderr",
     "output_type": "stream",
     "text": [
      " 27%|██▋       | 2691/10000 [00:00<00:01, 5320.38it/s]"
     ]
    },
    {
     "name": "stdout",
     "output_type": "stream",
     "text": [
      "1.0\n",
      "1.0\n"
     ]
    },
    {
     "name": "stderr",
     "output_type": "stream",
     "text": [
      " 49%|████▉     | 4938/10000 [00:00<00:00, 5586.16it/s]"
     ]
    },
    {
     "name": "stdout",
     "output_type": "stream",
     "text": [
      "1.0\n",
      "1.0\n"
     ]
    },
    {
     "name": "stderr",
     "output_type": "stream",
     "text": [
      " 66%|██████▌   | 6590/10000 [00:01<00:00, 5541.46it/s]"
     ]
    },
    {
     "name": "stdout",
     "output_type": "stream",
     "text": [
      "1.0\n",
      "1.0\n"
     ]
    },
    {
     "name": "stderr",
     "output_type": "stream",
     "text": [
      " 88%|████████▊ | 8829/10000 [00:01<00:00, 5580.63it/s]"
     ]
    },
    {
     "name": "stdout",
     "output_type": "stream",
     "text": [
      "1.0\n",
      "1.0\n"
     ]
    },
    {
     "name": "stderr",
     "output_type": "stream",
     "text": [
      "100%|██████████| 10000/10000 [00:01<00:00, 5409.34it/s]\n"
     ]
    },
    {
     "name": "stdout",
     "output_type": "stream",
     "text": [
      "0.98125\n",
      "[[ 30   0]\n",
      " [  3 127]]\n"
     ]
    },
    {
     "data": {
      "image/png": "[encoded data removed]",
      "text/plain": [
       "<Figure size 432x288 with 1 Axes>"
      ]
     },
     "metadata": {
      "needs_background": "light"
     },
     "output_type": "display_data"
    }
   ],
   "source": [
    "network = MLP_init(input_size=24, hidden_size=10, output_size=2)\n",
    "#X_train, X_test, y_train, y_test = train_test_split(data, label, test_size=0.4, stratify = label)\n",
    "data1 = data[label==1]\n",
    "data0 = data[label==0]\n",
    "X_train = np.vstack((data1[:120],data0[:120]))\n",
    "X_test = np.vstack((data1[120:],data0[120:]))\n",
    "y_train = [1 for x in range(120)]\n",
    "y_train.extend([0 for x in range(120)])\n",
    "y_train = np.array(y_train)\n",
    "y_test = [1 for x in range(130)]\n",
    "y_test.extend([0 for x in range(30)])\n",
    "y_test = np.array(y_test)\n",
    "\n",
    "num_of_seed = np.random.randint(0, 100)\n",
    "for l in [X_train, y_train]:\n",
    "    np.random.seed(num_of_seed)\n",
    "    np.random.shuffle(l)\n",
    "num_of_seed = np.random.randint(0, 100)\n",
    "for l in [X_test, y_test]:\n",
    "    np.random.seed(num_of_seed)\n",
    "    np.random.shuffle(l)\n",
    "\n",
    "\n",
    "iters_num = 10000\n",
    "learning_rate = 0.02\n",
    "batch_size = 100\n",
    "train_size = X_train.shape[0]\n",
    "train_loss_list = []\n",
    "train_acc_list = []\n",
    "test_acc_list = []\n",
    "\n",
    "for x in tqdm(range(iters_num)):\n",
    "    batch_mask = np.random.choice(train_size, batch_size)#変更点\n",
    "    X_batch = X_train[batch_mask]\n",
    "    y_batch = y_train[batch_mask]\n",
    "    grad = network.gradient(X_batch, y_batch)\n",
    "    for key in ['W1', 'b1', 'W2', 'b2']:\n",
    "            network.params[key] -= learning_rate * grad[key]\n",
    "    train_loss_list.append(network.loss(X_batch, y_batch))\n",
    "    if x % 1000 == 0:\n",
    "        train_acc = network.accuracy(X_train, y_train)\n",
    "        train_acc_list.append(train_acc)\n",
    "        print(train_acc)\n",
    "plt.plot(train_loss_list)\n",
    "test_acc = network.accuracy(X_test, y_test)\n",
    "print(test_acc)\n",
    "y_pred = np.argmax(network.predict(X_test), axis=1)\n",
    "cm = confusion_matrix(y_test, y_pred)\n",
    "print(cm)"
   ]
  },
  {
   "cell_type": "code",
   "execution_count": 118,
   "metadata": {},
   "outputs": [
    {
     "name": "stderr",
     "output_type": "stream",
     "text": [
      "  9%|▉         | 907/10000 [00:00<00:02, 4090.19it/s]"
     ]
    },
    {
     "name": "stdout",
     "output_type": "stream",
     "text": [
      "280\n",
      "0.5964285714285714\n"
     ]
    },
    {
     "name": "stderr",
     "output_type": "stream",
     "text": [
      " 19%|█▊        | 1869/10000 [00:00<00:01, 4427.77it/s]"
     ]
    },
    {
     "name": "stdout",
     "output_type": "stream",
     "text": [
      "0.9964285714285714\n"
     ]
    },
    {
     "name": "stderr",
     "output_type": "stream",
     "text": [
      " 29%|██▉       | 2937/10000 [00:00<00:01, 4846.97it/s]"
     ]
    },
    {
     "name": "stdout",
     "output_type": "stream",
     "text": [
      "1.0\n",
      "1.0\n"
     ]
    },
    {
     "name": "stderr",
     "output_type": "stream",
     "text": [
      " 50%|█████     | 5032/10000 [00:01<00:00, 5201.36it/s]"
     ]
    },
    {
     "name": "stdout",
     "output_type": "stream",
     "text": [
      "1.0\n",
      "1.0\n"
     ]
    },
    {
     "name": "stderr",
     "output_type": "stream",
     "text": [
      " 65%|██████▌   | 6549/10000 [00:01<00:00, 4582.54it/s]"
     ]
    },
    {
     "name": "stdout",
     "output_type": "stream",
     "text": [
      "1.0\n"
     ]
    },
    {
     "name": "stderr",
     "output_type": "stream",
     "text": [
      " 76%|███████▌  | 7571/10000 [00:01<00:00, 4852.93it/s]"
     ]
    },
    {
     "name": "stdout",
     "output_type": "stream",
     "text": [
      "1.0\n",
      "1.0\n"
     ]
    },
    {
     "name": "stderr",
     "output_type": "stream",
     "text": [
      "100%|██████████| 10000/10000 [00:02<00:00, 4927.81it/s]"
     ]
    },
    {
     "name": "stdout",
     "output_type": "stream",
     "text": [
      "1.0\n"
     ]
    },
    {
     "name": "stderr",
     "output_type": "stream",
     "text": [
      "\n"
     ]
    },
    {
     "name": "stdout",
     "output_type": "stream",
     "text": [
      "0.975\n",
      "[[30  0]\n",
      " [ 3 87]]\n"
     ]
    },
    {
     "data": {
      "image/png": "[encoded data removed]",
      "text/plain": [
       "<Figure size 432x288 with 1 Axes>"
      ]
     },
     "metadata": {
      "needs_background": "light"
     },
     "output_type": "display_data"
    }
   ],
   "source": [
    "network = MLP_init(input_size=24, hidden_size=10, output_size=2)\n",
    "#X_train, X_test, y_train, y_test = train_test_split(data, label, test_size=0.4, stratify = label)\n",
    "data1 = data[label==1]\n",
    "data0 = data[label==0]\n",
    "X_train = np.vstack((data1[:160],data0[:120]))\n",
    "X_test = np.vstack((data1[160:],data0[120:]))\n",
    "y_train = [1 for x in range(160)]\n",
    "y_train.extend([0 for x in range(120)])\n",
    "y_train = np.array(y_train)\n",
    "y_test = [1 for x in range(90)]\n",
    "y_test.extend([0 for x in range(30)])\n",
    "y_test = np.array(y_test)\n",
    "\n",
    "num_of_seed = np.random.randint(0, 100)\n",
    "for l in [X_train, y_train]:\n",
    "    np.random.seed(num_of_seed)\n",
    "    np.random.shuffle(l)\n",
    "num_of_seed = np.random.randint(0, 100)\n",
    "for l in [X_test, y_test]:\n",
    "    np.random.seed(num_of_seed)\n",
    "    np.random.shuffle(l)\n",
    "\n",
    "\n",
    "iters_num = 10000\n",
    "learning_rate = 0.02\n",
    "batch_size = 90\n",
    "train_size = X_train.shape[0]\n",
    "train_loss_list = []\n",
    "train_acc_list = []\n",
    "test_acc_list = []\n",
    "\n",
    "for x in tqdm(range(iters_num)):\n",
    "    batch_mask = np.random.choice(train_size, batch_size)#変更点\n",
    "    X_batch = X_train[batch_mask]\n",
    "    y_batch = y_train[batch_mask]\n",
    "    grad = network.gradient(X_batch, y_batch)\n",
    "    for key in ['W1', 'b1', 'W2', 'b2']:\n",
    "            network.params[key] -= learning_rate * grad[key]\n",
    "    train_loss_list.append(network.loss(X_batch, y_batch))\n",
    "    if x % 1000 == 0:\n",
    "        train_acc = network.accuracy(X_train, y_train)\n",
    "        train_acc_list.append(train_acc)\n",
    "        print(train_acc)\n",
    "plt.plot(train_loss_list)\n",
    "test_acc = network.accuracy(X_test, y_test)\n",
    "print(test_acc)\n",
    "y_pred = np.argmax(network.predict(X_test), axis=1)\n",
    "cm = confusion_matrix(y_test, y_pred)\n",
    "print(cm)"
   ]
  },
  {
   "cell_type": "code",
   "execution_count": null,
   "metadata": {},
   "outputs": [],
   "source": []
  },
  {
   "cell_type": "code",
   "execution_count": 122,
   "metadata": {},
   "outputs": [],
   "source": [
    "mean_list = np.mean(data, axis = 0)"
   ]
  },
  {
   "cell_type": "code",
   "execution_count": null,
   "metadata": {},
   "outputs": [],
   "source": []
  },
  {
   "cell_type": "code",
   "execution_count": 124,
   "metadata": {},
   "outputs": [
    {
     "data": {
      "text/plain": [
       "array([[-0.12504259,  0.31077414,  0.37275154, ...,  0.51169293,\n",
       "        -0.4843221 , -0.42008403],\n",
       "       [-2.3300947 , -1.28977939,  0.37275154, ...,  0.51169293,\n",
       "        -0.4843221 , -0.42008403],\n",
       "       [ 0.62790203,  0.31077414,  0.34223253, ..., -1.95429709,\n",
       "        -0.4843221 ,  2.38047614],\n",
       "       ...,\n",
       "       [-2.0611859 ,  0.31077414,  0.37275154, ...,  0.51169293,\n",
       "        -0.4843221 , -0.42008403],\n",
       "       [-1.79227711, -0.75626154,  0.38801104, ...,  0.51169293,\n",
       "        -0.4843221 , -0.42008403],\n",
       "       [ 0.412775  ,  0.31077414,  0.38801104, ...,  0.51169293,\n",
       "        -0.4843221 , -0.42008403]])"
      ]
     },
     "execution_count": 124,
     "metadata": {},
     "output_type": "execute_result"
    }
   ],
   "source": []
  },
  {
   "cell_type": "code",
   "execution_count": null,
   "metadata": {},
   "outputs": [],
   "source": []
  }
 ],
 "metadata": {
  "kernelspec": {
   "display_name": "Python 3",
   "language": "python",
   "name": "python3"
  },
  "language_info": {
   "codemirror_mode": {
    "name": "ipython",
    "version": 3
   },
   "file_extension": ".py",
   "mimetype": "text/x-python",
   "name": "python",
   "nbconvert_exporter": "python",
   "pygments_lexer": "ipython3",
   "version": "3.7.6"
  }
 },
 "nbformat": 4,
 "nbformat_minor": 4
}
