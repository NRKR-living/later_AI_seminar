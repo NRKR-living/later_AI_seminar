{
 "cells": [
  {
   "cell_type": "code",
   "execution_count": 3,
   "metadata": {},
   "outputs": [],
   "source": [
    "import tensorflow as tf\n",
    "import numpy as np\n",
    "import tensorflow.keras as keras\n",
    "import tensorflow.keras.layers as layers\n",
    "import matplotlib.pyplot as plt\n",
    "from sklearn.datasets import load_iris\n",
    "from sklearn.model_selection import train_test_split"
   ]
  },
  {
   "cell_type": "markdown",
   "metadata": {},
   "source": [
    "## データの読み込み"
   ]
  },
  {
   "cell_type": "code",
   "execution_count": 4,
   "metadata": {},
   "outputs": [],
   "source": [
    "data = load_iris()\n",
    "X_train, X_test, y_train, y_test = train_test_split(data.data, data.target)\n",
    "X_train, X_test = X_train.astype(np.float32), X_test.astype(np.float32)"
   ]
  },
  {
   "cell_type": "markdown",
   "metadata": {},
   "source": [
    "## モデルの定義"
   ]
  },
  {
   "cell_type": "code",
   "execution_count": 5,
   "metadata": {},
   "outputs": [],
   "source": [
    "model = keras.Sequential(\n",
    "    layers = [\n",
    "        layers.Dense(5),\n",
    "        layers.Activation(keras.activations.sigmoid),\n",
    "        layers.Dense(3)\n",
    "        #layers.Activation(keras.activations.softmax),\n",
    "    ],#3層のNN\n",
    "    name=\"SimplyMLP\"\n",
    ")"
   ]
  },
  {
   "cell_type": "code",
   "execution_count": 6,
   "metadata": {},
   "outputs": [],
   "source": [
    " model.compile(\n",
    "    optimizer=keras.optimizers.Adam(learning_rate=0.01),\n",
    "    loss = keras.losses.SparseCategoricalCrossentropy(from_logits=True),\n",
    "    loss_weights=True,\n",
    "    metrics = \"acc\",\n",
    "    run_eagerly = False\n",
    ")"
   ]
  },
  {
   "cell_type": "code",
   "execution_count": 7,
   "metadata": {},
   "outputs": [],
   "source": [
    "history = model.fit(X_train, y_train, batch_size=32, epochs=100, validation_split=0.2, verbose=0)"
   ]
  },
  {
   "cell_type": "code",
   "execution_count": 8,
   "metadata": {},
   "outputs": [
    {
     "data": {
      "text/plain": [
       "[<matplotlib.lines.Line2D at 0x7f8a68b4f810>]"
      ]
     },
     "execution_count": 8,
     "metadata": {},
     "output_type": "execute_result"
    },
    {
     "data": {
      "image/png": "[encoded data removed]",
      "text/plain": [
       "<Figure size 432x288 with 1 Axes>"
      ]
     },
     "metadata": {
      "needs_background": "light"
     },
     "output_type": "display_data"
    }
   ],
   "source": [
    "import pandas as pd\n",
    "df =  pd.DataFrame(history.history)\n",
    "plt.plot(df[\"val_acc\"])"
   ]
  },
  {
   "cell_type": "code",
   "execution_count": 11,
   "metadata": {},
   "outputs": [
    {
     "name": "stdout",
     "output_type": "stream",
     "text": [
      "2/2 [==============================] - 0s 965us/step - loss: 0.2768 - acc: 0.9474\n"
     ]
    },
    {
     "data": {
      "text/plain": [
       "[0.2768246829509735, 0.9473684430122375]"
      ]
     },
     "execution_count": 11,
     "metadata": {},
     "output_type": "execute_result"
    }
   ],
   "source": [
    "model.evaluate(X_test, y_test)"
   ]
  },
  {
   "cell_type": "markdown",
   "metadata": {},
   "source": [
    "## subclass"
   ]
  },
  {
   "cell_type": "code",
   "execution_count": null,
   "metadata": {},
   "outputs": [],
   "source": [
    "class MyNN(keras.Model):\n",
    "    def __init__(self, hidden_size=3, output_size=5, name = \"mynn\"):\n",
    "        super().__init__(name=name)\n",
    "        self.l1 = layers.Dense(hidden_size)\n",
    "        self.l2 = layers.Dense(output_size)\n",
    "        \n",
    "        \n",
    "    def call(self, x):\n",
    "        y = self.l1(x)\n",
    "        y = keras.activations.sigmoid(y)\n",
    "        y = self.l2(y)\n",
    "        return y\n",
    "    \n",
    "    "
   ]
  },
  {
   "cell_type": "code",
   "execution_count": null,
   "metadata": {},
   "outputs": [],
   "source": [
    "model = MyNN(5,3)\n",
    "\n",
    "model.compile(\n",
    "    optimizer=keras.optimizers.Adam(learning_rate=0.01),\n",
    "    loss = keras.losses.SparseCategoricalCrossentropy(from_logits=True),\n",
    "    loss_weights=True,\n",
    "    metrics = \"acc\",\n",
    "    run_eagerly = False\n",
    ")\n",
    "\n",
    "history = model.fit(X_train, y_train, batch_size=32, epochs=100, validation_split=0.2, verbose=0)"
   ]
  },
  {
   "cell_type": "code",
   "execution_count": null,
   "metadata": {},
   "outputs": [],
   "source": [
    "df =  pd.DataFrame(history.history)\n",
    "plt.plot(df[\"val_acc\"])"
   ]
  },
  {
   "cell_type": "code",
   "execution_count": null,
   "metadata": {},
   "outputs": [],
   "source": [
    "class CustomNN(keras.Model):\n",
    "    def __init__(self, hidden_size=3, output_size=5, name = \"mynn\"):\n",
    "        super().__init__(name=name)\n",
    "        self.l1 = layers.Dense(hidden_size)\n",
    "        self.l2 = layers.Dense(output_size)\n",
    "        \n",
    "        \n",
    "    def call(self, x):\n",
    "        y = self.l1(x)\n",
    "        y = keras.activations.sigmoid(y)\n",
    "        y = self.l2(y)\n",
    "        return y\n",
    "    \n",
    "    def train_step(self, minibatch):\n",
    "        x, y = minibatch# x: data, y: label\n",
    "        with tf.GradientTape() as tape:\n",
    "            y_pred = self.call(x)# forward prop\n",
    "            loss = self.compiled_loss(y, y_pred)\n",
    "        #勾配の計算\n",
    "        params = self.trainable_variables\n",
    "        gradients = tape.gradient(loss, params)\n",
    "        #勾配を使ってパラエータの更新をする\n",
    "        self.optimizer.apply_gradient(zip(gradients, params))\n",
    "        \n",
    "        #必要であれば以下も追加\n",
    "        #メトリクス\n",
    "        self.compiled_metrics.update_state(y, y_pred)\n",
    "        return {m.name: m.result() for m in self.metrics}\n",
    "    \n",
    "    def test_step(self, minibatch):\n",
    "        x, y = minibatch# x: data, y: label\n",
    "        \n",
    "        y_pred = self.call(x)# forward prop\n",
    "        loss = self.compiled_loss(y, y_pred)\n",
    "        \n",
    "        #必要であれば以下も追加\n",
    "        #メトリクス\n",
    "        self.compiled_metrics.update_state(y, y_pred)\n",
    "        return {m.name: m.result() for m in self.metrics}"
   ]
  },
  {
   "cell_type": "code",
   "execution_count": null,
   "metadata": {},
   "outputs": [],
   "source": [
    "model = CustomNN()\n",
    "\n",
    "model.compile(\n",
    "    optimizer=keras.optimizers.Adam(learning_rate=0.01),\n",
    "    loss = keras.losses.SparseCategoricalCrossentropy(from_logits=True),\n",
    "    loss_weights=True,\n",
    "    metrics = \"acc\",\n",
    "    run_eagerly = False\n",
    ")\n",
    "\n",
    "history = model.fit(X_train, y_train, batch_size=32, epochs=100, validation_split=0.2, verbose=0)"
   ]
  },
  {
   "cell_type": "code",
   "execution_count": null,
   "metadata": {},
   "outputs": [],
   "source": []
  },
  {
   "cell_type": "code",
   "execution_count": null,
   "metadata": {},
   "outputs": [],
   "source": []
  },
  {
   "cell_type": "code",
   "execution_count": null,
   "metadata": {},
   "outputs": [],
   "source": []
  }
 ],
 "metadata": {
  "kernelspec": {
   "display_name": "Python 3",
   "language": "python",
   "name": "python3"
  },
  "language_info": {
   "codemirror_mode": {
    "name": "ipython",
    "version": 3
   },
   "file_extension": ".py",
   "mimetype": "text/x-python",
   "name": "python",
   "nbconvert_exporter": "python",
   "pygments_lexer": "ipython3",
   "version": "3.7.6"
  }
 },
 "nbformat": 4,
 "nbformat_minor": 4
}
