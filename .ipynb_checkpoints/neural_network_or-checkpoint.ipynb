{
 "cells": [
  {
   "cell_type": "code",
   "execution_count": 1,
   "metadata": {},
   "outputs": [],
   "source": [
    "import numpy as np\n",
    "import random\n"
   ]
  },
  {
   "cell_type": "code",
   "execution_count": 10,
   "metadata": {},
   "outputs": [],
   "source": [
    "input_list = [[0,0],[1,0],[0,1],[1,1]]"
   ]
  },
  {
   "cell_type": "code",
   "execution_count": 11,
   "metadata": {},
   "outputs": [],
   "source": [
    "input_list = np.array(input_list)"
   ]
  },
  {
   "cell_type": "code",
   "execution_count": 17,
   "metadata": {},
   "outputs": [],
   "source": [
    "label = []\n",
    "for x in input_list:\n",
    "    label.append(x[0] or x[1])"
   ]
  },
  {
   "cell_type": "markdown",
   "metadata": {},
   "source": [
    "# インプットするデータと正解クラスのデータ表示"
   ]
  },
  {
   "cell_type": "code",
   "execution_count": 18,
   "metadata": {},
   "outputs": [
    {
     "name": "stdout",
     "output_type": "stream",
     "text": [
      "[[0 0]\n",
      " [1 0]\n",
      " [0 1]\n",
      " [1 1]]\n",
      "[0, 1, 1, 1]\n"
     ]
    }
   ],
   "source": [
    "print(input_list)\n",
    "print(label)"
   ]
  },
  {
   "cell_type": "markdown",
   "metadata": {},
   "source": [
    "# ステップ関数の定義"
   ]
  },
  {
   "cell_type": "code",
   "execution_count": 4,
   "metadata": {},
   "outputs": [],
   "source": [
    "def step(X, T = 0.7):\n",
    "    if X >= T:\n",
    "        return 1\n",
    "    else:\n",
    "        return 0\n"
   ]
  },
  {
   "cell_type": "markdown",
   "metadata": {},
   "source": [
    "# deltaの計算"
   ]
  },
  {
   "cell_type": "code",
   "execution_count": 43,
   "metadata": {},
   "outputs": [],
   "source": [
    "def culc_delta(label, estimated, input_num, learning_rate=0.2): \n",
    "    return learning_rate*(label-estimated)*input_num\n",
    "    "
   ]
  },
  {
   "cell_type": "markdown",
   "metadata": {},
   "source": [
    "# weightの初期化"
   ]
  },
  {
   "cell_type": "code",
   "execution_count": 79,
   "metadata": {},
   "outputs": [],
   "source": [
    "w1 = round(random.random(), 1)\n",
    "w2 = round(random.random(), 1)"
   ]
  },
  {
   "cell_type": "code",
   "execution_count": 80,
   "metadata": {},
   "outputs": [
    {
     "name": "stdout",
     "output_type": "stream",
     "text": [
      "0.4 0.2\n"
     ]
    }
   ],
   "source": [
    "print(w1, w2)"
   ]
  },
  {
   "cell_type": "code",
   "execution_count": 81,
   "metadata": {},
   "outputs": [],
   "source": [
    "weight_log = []\n",
    "for y in range(10):\n",
    "    for i,x in enumerate(input_list):\n",
    "        X = x[0]*w1 + x[1]*w2\n",
    "        result = step(X)\n",
    "        delta_w1 = culc_delta(label[i], result, x[0])\n",
    "        w1 += delta_w1\n",
    "        delta_w2 = culc_delta(label[i], result, x[1])\n",
    "        w2 += delta_w2\n",
    "        weight_log.append([x[0], x[1],label[i], w1, w2,  result, delta_w1, delta_w2])"
   ]
  },
  {
   "cell_type": "code",
   "execution_count": 82,
   "metadata": {},
   "outputs": [
    {
     "name": "stdout",
     "output_type": "stream",
     "text": [
      "[[0.  0.  0.  0.4 0.2 0.  0.  0. ]\n",
      " [1.  0.  1.  0.6 0.2 0.  0.2 0. ]\n",
      " [0.  1.  1.  0.6 0.4 0.  0.  0.2]\n",
      " [1.  1.  1.  0.6 0.4 1.  0.  0. ]\n",
      " [0.  0.  0.  0.6 0.4 0.  0.  0. ]\n",
      " [1.  0.  1.  0.8 0.4 0.  0.2 0. ]\n",
      " [0.  1.  1.  0.8 0.6 0.  0.  0.2]\n",
      " [1.  1.  1.  0.8 0.6 1.  0.  0. ]\n",
      " [0.  0.  0.  0.8 0.6 0.  0.  0. ]\n",
      " [1.  0.  1.  0.8 0.6 1.  0.  0. ]\n",
      " [0.  1.  1.  0.8 0.8 0.  0.  0.2]\n",
      " [1.  1.  1.  0.8 0.8 1.  0.  0. ]\n",
      " [0.  0.  0.  0.8 0.8 0.  0.  0. ]\n",
      " [1.  0.  1.  0.8 0.8 1.  0.  0. ]\n",
      " [0.  1.  1.  0.8 0.8 1.  0.  0. ]\n",
      " [1.  1.  1.  0.8 0.8 1.  0.  0. ]\n",
      " [0.  0.  0.  0.8 0.8 0.  0.  0. ]\n",
      " [1.  0.  1.  0.8 0.8 1.  0.  0. ]\n",
      " [0.  1.  1.  0.8 0.8 1.  0.  0. ]\n",
      " [1.  1.  1.  0.8 0.8 1.  0.  0. ]\n",
      " [0.  0.  0.  0.8 0.8 0.  0.  0. ]\n",
      " [1.  0.  1.  0.8 0.8 1.  0.  0. ]\n",
      " [0.  1.  1.  0.8 0.8 1.  0.  0. ]\n",
      " [1.  1.  1.  0.8 0.8 1.  0.  0. ]\n",
      " [0.  0.  0.  0.8 0.8 0.  0.  0. ]\n",
      " [1.  0.  1.  0.8 0.8 1.  0.  0. ]\n",
      " [0.  1.  1.  0.8 0.8 1.  0.  0. ]\n",
      " [1.  1.  1.  0.8 0.8 1.  0.  0. ]\n",
      " [0.  0.  0.  0.8 0.8 0.  0.  0. ]\n",
      " [1.  0.  1.  0.8 0.8 1.  0.  0. ]\n",
      " [0.  1.  1.  0.8 0.8 1.  0.  0. ]\n",
      " [1.  1.  1.  0.8 0.8 1.  0.  0. ]\n",
      " [0.  0.  0.  0.8 0.8 0.  0.  0. ]\n",
      " [1.  0.  1.  0.8 0.8 1.  0.  0. ]\n",
      " [0.  1.  1.  0.8 0.8 1.  0.  0. ]\n",
      " [1.  1.  1.  0.8 0.8 1.  0.  0. ]\n",
      " [0.  0.  0.  0.8 0.8 0.  0.  0. ]\n",
      " [1.  0.  1.  0.8 0.8 1.  0.  0. ]\n",
      " [0.  1.  1.  0.8 0.8 1.  0.  0. ]\n",
      " [1.  1.  1.  0.8 0.8 1.  0.  0. ]]\n"
     ]
    }
   ],
   "source": [
    "print(np.array(weight_log))"
   ]
  },
  {
   "cell_type": "code",
   "execution_count": 86,
   "metadata": {},
   "outputs": [
    {
     "data": {
      "text/plain": [
       "1"
      ]
     },
     "execution_count": 86,
     "metadata": {},
     "output_type": "execute_result"
    }
   ],
   "source": [
    "1 ^ 0"
   ]
  },
  {
   "cell_type": "code",
   "execution_count": null,
   "metadata": {},
   "outputs": [],
   "source": []
  }
 ],
 "metadata": {
  "kernelspec": {
   "display_name": "Python 3",
   "language": "python",
   "name": "python3"
  },
  "language_info": {
   "codemirror_mode": {
    "name": "ipython",
    "version": 3
   },
   "file_extension": ".py",
   "mimetype": "text/x-python",
   "name": "python",
   "nbconvert_exporter": "python",
   "pygments_lexer": "ipython3",
   "version": "3.7.6"
  }
 },
 "nbformat": 4,
 "nbformat_minor": 4
}
