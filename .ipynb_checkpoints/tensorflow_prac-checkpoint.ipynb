{
 "cells": [
  {
   "cell_type": "code",
   "execution_count": 1,
   "metadata": {},
   "outputs": [],
   "source": [
    "import tensorflow as tf\n",
    "import numpy as np\n",
    "import tensorflow.keras as keras\n",
    "import tensorflow.keras.layers as layers\n",
    "import matplotlib.pyplot as plt"
   ]
  },
  {
   "cell_type": "code",
   "execution_count": 5,
   "metadata": {},
   "outputs": [
    {
     "data": {
      "text/plain": [
       "'2.3.0'"
      ]
     },
     "execution_count": 5,
     "metadata": {},
     "output_type": "execute_result"
    }
   ],
   "source": [
    "tf.__version__"
   ]
  },
  {
   "cell_type": "code",
   "execution_count": 10,
   "metadata": {},
   "outputs": [],
   "source": [
    "x = np.random.random((100,20)).astype(np.float32)#GPUの高速化に対応させるため\n",
    "y = tf.reduce_sum(x, axis = 1)"
   ]
  },
  {
   "cell_type": "code",
   "execution_count": 12,
   "metadata": {},
   "outputs": [
    {
     "data": {
      "text/plain": [
       "<tf.Tensor: shape=(100,), dtype=float32, numpy=\n",
       "array([10.166115 ,  9.041364 , 10.457287 ,  8.154647 , 11.560412 ,\n",
       "        8.677245 ,  9.377275 , 11.187011 ,  8.102965 , 12.643482 ,\n",
       "        9.746248 , 10.156873 , 10.978087 ,  9.152157 , 12.160221 ,\n",
       "       10.348914 ,  9.483969 , 10.924128 ,  9.1085415,  9.679968 ,\n",
       "        8.734447 ,  9.310234 , 10.8396435, 11.492521 , 10.208986 ,\n",
       "       10.904608 ,  9.704279 , 11.286147 ,  9.895182 ,  5.4044237,\n",
       "        9.050901 , 11.906488 ,  6.9754105,  7.451728 , 11.610853 ,\n",
       "       10.640229 , 12.14045  ,  9.844441 ,  9.456282 ,  8.619873 ,\n",
       "        9.512981 ,  9.3176   ,  8.132586 , 12.366653 ,  8.977464 ,\n",
       "       11.37393  ,  9.791562 , 11.219444 ,  9.948511 , 10.298782 ,\n",
       "       10.753831 , 10.117283 , 10.281236 , 10.538755 , 10.654885 ,\n",
       "       10.161808 ,  9.816726 ,  9.118755 ,  9.121164 ,  8.741397 ,\n",
       "        9.358786 ,  9.723221 , 11.478619 , 10.517801 , 10.302916 ,\n",
       "        9.660105 , 10.136715 , 11.820514 , 10.702717 , 10.169    ,\n",
       "        8.046382 , 12.220335 , 10.445029 , 10.949712 , 11.296244 ,\n",
       "       11.258796 ,  8.478178 , 10.468475 , 10.229142 ,  9.616465 ,\n",
       "       10.5079975, 10.182211 ,  9.89611  , 10.228649 ,  7.7702327,\n",
       "        7.8939157,  9.240449 , 10.035843 ,  9.818218 , 11.628195 ,\n",
       "        8.763455 ,  7.9804745,  8.889831 ,  8.820642 , 11.056271 ,\n",
       "        7.853026 ,  9.158718 , 12.524079 ,  8.814606 ,  9.698436 ],\n",
       "      dtype=float32)>"
      ]
     },
     "execution_count": 12,
     "metadata": {},
     "output_type": "execute_result"
    }
   ],
   "source": [
    "with tf.GradientTape() as tape:\n",
    "    y = tf.reduce_sum(x, axis = 1)\n",
    "\n"
   ]
  },
  {
   "cell_type": "code",
   "execution_count": 13,
   "metadata": {},
   "outputs": [
    {
     "data": {
      "text/plain": [
       "tensorflow.python.framework.ops.EagerTensor"
      ]
     },
     "execution_count": 13,
     "metadata": {},
     "output_type": "execute_result"
    }
   ],
   "source": [
    "type(y)"
   ]
  },
  {
   "cell_type": "code",
   "execution_count": null,
   "metadata": {},
   "outputs": [],
   "source": []
  }
 ],
 "metadata": {
  "kernelspec": {
   "display_name": "Python 3",
   "language": "python",
   "name": "python3"
  },
  "language_info": {
   "codemirror_mode": {
    "name": "ipython",
    "version": 3
   },
   "file_extension": ".py",
   "mimetype": "text/x-python",
   "name": "python",
   "nbconvert_exporter": "python",
   "pygments_lexer": "ipython3",
   "version": "3.7.6"
  }
 },
 "nbformat": 4,
 "nbformat_minor": 4
}
