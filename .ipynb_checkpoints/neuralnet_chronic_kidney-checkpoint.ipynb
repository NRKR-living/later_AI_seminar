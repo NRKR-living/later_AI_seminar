{
 "cells": [
  {
   "cell_type": "code",
   "execution_count": 189,
   "metadata": {},
   "outputs": [],
   "source": [
    "%matplotlib inline\n",
    "import numpy as np\n",
    "import pandas as pd\n",
    "from sklearn.datasets import load_iris\n",
    "from sklearn import preprocessing\n",
    "from sklearn.model_selection import train_test_split\n",
    "from tqdm import tqdm\n",
    "import matplotlib.pyplot as plt\n",
    "from collections import OrderedDict\n",
    "from sklearn.metrics import confusion_matrix"
   ]
  },
  {
   "cell_type": "markdown",
   "metadata": {},
   "source": [
    "## 全結合層"
   ]
  },
  {
   "cell_type": "code",
   "execution_count": 190,
   "metadata": {},
   "outputs": [],
   "source": [
    "class Linear:\n",
    "    def __init__(self, W, b):\n",
    "        self.W = W\n",
    "        self.b = b\n",
    "        self.x = None\n",
    "        self.dW = None\n",
    "        self.db = None\n",
    "        \n",
    "    def forward(self, x):\n",
    "        self.x = x\n",
    "        out = np.dot(self.x, self.W) + self.b\n",
    "        return out\n",
    "    \n",
    "    def backward(self, dout):\n",
    "        dx = np.dot(dout, self.W.T)\n",
    "        #self.dW = np.dot(self.x[None,:].T, dout[None,:])\n",
    "        self.dW = np.dot(self.x.T, dout)\n",
    "        self.db = np.sum(dout, axis=0)\n",
    "        return dx"
   ]
  },
  {
   "cell_type": "markdown",
   "metadata": {},
   "source": [
    "## sigmoid関数"
   ]
  },
  {
   "cell_type": "code",
   "execution_count": 191,
   "metadata": {},
   "outputs": [],
   "source": [
    "class Sigmoid:\n",
    "    def __init__(self):\n",
    "        self.out = None\n",
    "    \n",
    "    def forward(self, x):\n",
    "        out = 1/ (1 + np.exp(-x))\n",
    "        self.out = out\n",
    "        return out\n",
    "    \n",
    "    def backward(self, dout):\n",
    "        dx = dout * (1 - self.out) * self.out\n",
    "        return dx"
   ]
  },
  {
   "cell_type": "markdown",
   "metadata": {},
   "source": [
    "## Relu関数"
   ]
  },
  {
   "cell_type": "code",
   "execution_count": 192,
   "metadata": {},
   "outputs": [],
   "source": [
    "class Relu:\n",
    "    def __init__(self):\n",
    "        self.mask = None\n",
    "        \n",
    "    def forward(self, x):\n",
    "        self.mask = (x <= 0)\n",
    "        out = x.copy()\n",
    "        out[self.mask] = 0\n",
    "        \n",
    "        return out\n",
    "    \n",
    "    def backward(self, dout):\n",
    "        dout[self.mask] = 0\n",
    "        dx = dout\n",
    "        \n",
    "        return dx"
   ]
  },
  {
   "cell_type": "markdown",
   "metadata": {},
   "source": [
    "## ネットワーク全体のクラス"
   ]
  },
  {
   "cell_type": "code",
   "execution_count": 193,
   "metadata": {},
   "outputs": [],
   "source": [
    "class MLP_init:\n",
    "    def __init__(self, input_size, hidden_size, output_size):\n",
    "        self.params = {}\n",
    "        self.params['W1'] = np.random.randn(input_size, hidden_size)\n",
    "        self.params['b1'] = np.random.randn(hidden_size)\n",
    "        self.params['W2'] = np.random.randn(hidden_size, output_size)\n",
    "        self.params['b2'] = np.random.randn(output_size)\n",
    "        \n",
    "        self.layers = OrderedDict()\n",
    "        self.layers['Linear1'] = Linear(self.params['W1'], self.params['b1'])\n",
    "        self.layers['Sigmoid1'] = Sigmoid()\n",
    "        self.layers['Linear2'] = Linear(self.params['W2'], self.params['b2'])\n",
    "        self.layers['Sigmoid2'] = Sigmoid()\n",
    "    \n",
    "    def predict(self, x):\n",
    "        for layer in self.layers.values():\n",
    "            x = layer.forward(x)\n",
    "        return x\n",
    "    \n",
    "    def loss(self, x, t):\n",
    "        if type(t) != np.ndarray or type(t) != list:\n",
    "            t = np.array(t, dtype = int)\n",
    "            t = np.eye(2)[t]\n",
    "        y = self.predict(x)\n",
    "        return 1/2 * np.sum((y - t) ** 2)\n",
    "    \n",
    "    \n",
    "    def accuracy(self, x, t):\n",
    "        y = np.argmax(self.predict(x), axis = 1)\n",
    "        acc = np.sum(y == t)/float(x.shape[0])\n",
    "        return acc\n",
    "        \n",
    "    \n",
    "    def gradient(self, x, t):\n",
    "        #backward\n",
    "        if type(t) != np.ndarray or type(t) != list:\n",
    "            t = np.array(t, dtype = int)\n",
    "            t = np.eye(2)[t]\n",
    "        dout = self.predict(x) - t\n",
    "        layers = list(self.layers.values())\n",
    "        layers.reverse()\n",
    "        for layer in layers:\n",
    "            dout = layer.backward(dout)\n",
    "            \n",
    "        grads = {}\n",
    "        grads['W1'] = self.layers['Linear1'].dW\n",
    "        grads['b1'] = self.layers['Linear1'].db\n",
    "        grads['W2'] = self.layers['Linear2'].dW\n",
    "        grads['b2'] = self.layers['Linear2'].db\n",
    "        \n",
    "        return grads"
   ]
  },
  {
   "cell_type": "markdown",
   "metadata": {},
   "source": [
    "## データの環境\n",
    "@attribute 'age' numeric<br>\n",
    "@attribute 'bp'  numeric<br>\n",
    "@attribute 'sg' {1.005,1.010,1.015,1.020,1.025}<br>\n",
    "@attribute 'al' {0,1,2,3,4,5}<br>\n",
    "@attribute 'su' {0,1,2,3,4,5}<br>\n",
    "@attribute 'rbc' {normal,abnormal} -> 0, 1<br>\n",
    "@attribute 'pc' {normal,abnormal} -> 0, 1<br>\n",
    "@attribute 'pcc' {present,notpresent} -> 1, 0<br>\n",
    "@attribute 'ba' {present,notpresent} -> 1, 0<br>\n",
    "@attribute 'bgr'  numeric<br>\n",
    "@attribute 'bu' numeric<br>\n",
    "@attribute 'sc' numeric<br>\n",
    "@attribute 'sod' numeric<br>\n",
    "@attribute 'pot' numeric<br>\n",
    "@attribute 'hemo' numeric<br>\n",
    "@attribute 'pcv' numeric<br>\n",
    "@attribute 'wbcc' numeric<br>\n",
    "@attribute 'rbcc' numeric<br>\n",
    "@attribute 'htn' {yes,no} -> 1, 0<br>\n",
    "@attribute 'dm' {yes,no} -> 1, 0<br>\n",
    "@attribute 'cad' {yes,no} -> 1, 0<br>\n",
    "@attribute 'appet' {good,poor}  -> 1, 0<br>\n",
    "@attribute 'pe' {yes,no}  -> 1, 0<br>\n",
    "@attribute 'ane' {yes,no} -> 1, 0<br>\n",
    "@attribute 'class' {ckd,notckd} -> 1, 0<br>\n"
   ]
  },
  {
   "cell_type": "markdown",
   "metadata": {},
   "source": [
    "## データインポート"
   ]
  },
  {
   "cell_type": "markdown",
   "metadata": {},
   "source": [
    "### 未入力値は0に設定"
   ]
  },
  {
   "cell_type": "code",
   "execution_count": 194,
   "metadata": {},
   "outputs": [],
   "source": [
    "file_path = \"/Users/isonoyuma/python_workspace/work_later/data_set/chronic_kidney_disease_dataset/chronic_kidney_disease.arff\"\n",
    "\n",
    "data = np.zeros([400, 24])\n",
    "label = np.zeros(400)\n",
    "\n",
    "with open(file_path, newline=\"\")as f:\n",
    "    s = [s.strip() for s in f.readlines()]\n",
    "    s = [x.split(\",\") for x in s[29:429]]\n",
    "for i,x in enumerate(s):\n",
    "    for j, y in enumerate(x):\n",
    "        if y == \"?\":\n",
    "            s[i][j] = 0\n",
    "        elif y == \"normal\":\n",
    "            s[i][j] = 0\n",
    "        elif y == \"abnormal\":\n",
    "            s[i][j] = 1\n",
    "        elif y == \"present\":\n",
    "            s[i][j] = 1\n",
    "        elif y == \"notpresent\":\n",
    "            s[i][j] = 0\n",
    "        elif y == \"yes\":\n",
    "            s[i][j] = 1\n",
    "        elif y == \"no\":\n",
    "            s[i][j] = 0\n",
    "        elif y == \"good\":\n",
    "            s[i][j] = 1\n",
    "        elif y == \"poor\":\n",
    "            s[i][j] = 0\n",
    "        elif y == \"ckd\":\n",
    "            label[i] = 1\n",
    "            s[i].pop(j)\n",
    "        elif y == \"notckd\":\n",
    "            label[i] = 0\n",
    "            s[i].pop(j)\n",
    "        else:\n",
    "            s[i][j] = float(s[i][j])\n",
    "        \n",
    "        \n",
    "        \n",
    "for i, x in enumerate(s):\n",
    "    data[i,:] = x\n",
    "\n",
    "    \n",
    "data = preprocessing.scale(data)"
   ]
  },
  {
   "cell_type": "code",
   "execution_count": 196,
   "metadata": {},
   "outputs": [
    {
     "ename": "SyntaxError",
     "evalue": "invalid syntax (<ipython-input-196-aaf9d0e4f8e1>, line 19)",
     "output_type": "error",
     "traceback": [
      "\u001b[0;36m  File \u001b[0;32m\"<ipython-input-196-aaf9d0e4f8e1>\"\u001b[0;36m, line \u001b[0;32m19\u001b[0m\n\u001b[0;31m    if x % 1000 == 0:\u001b[0m\n\u001b[0m                    ^\u001b[0m\n\u001b[0;31mSyntaxError\u001b[0m\u001b[0;31m:\u001b[0m invalid syntax\n"
     ]
    }
   ],
   "source": [
    "network = MLP_init(input_size=24, hidden_size=10, output_size=2)\n",
    "X_train, X_test, y_train, y_test = train_test_split(data, label, test_size=0.4, stratify = label)\n",
    "iters_num = 10000\n",
    "learning_rate = 0.02\n",
    "batch_size = 50\n",
    "train_size = X_train.shape[0]\n",
    "train_loss_list = []\n",
    "train_acc_list = []\n",
    "test_acc_list = []\n",
    "\n",
    "for x in tqdm(range(iters_num)):\n",
    "    batch_mask = np.random.choice(train_size, batch_size)#変更点\n",
    "    X_batch = X_train[batch_mask]\n",
    "    y_batch = y_train[batch_mask]\n",
    "    grad = network.gradient(X_batch, y_batch)\n",
    "    for key in ['W1', 'b1', 'W2', 'b2']:\n",
    "            network.params[key] -= learning_rate * grad[key]\n",
    "    train_loss_list.append(network.loss(X_batch, y_batch)\n",
    "    if x % 1000 == 0:\n",
    "        train_acc = network.accuracy(X_train, y_train)\n",
    "        train_acc_list.append(train_acc)\n",
    "        print(train_acc)\n",
    "plt.plot(train_loss_list)\n",
    "y_pred = np.argmax(network.predict(X_test), axis=1)\n",
    "cm = confusion_matrix(y_test, y_pred)\n",
    "print(cm)"
   ]
  },
  {
   "cell_type": "code",
   "execution_count": null,
   "metadata": {},
   "outputs": [],
   "source": []
  }
 ],
 "metadata": {
  "kernelspec": {
   "display_name": "Python 3",
   "language": "python",
   "name": "python3"
  },
  "language_info": {
   "codemirror_mode": {
    "name": "ipython",
    "version": 3
   },
   "file_extension": ".py",
   "mimetype": "text/x-python",
   "name": "python",
   "nbconvert_exporter": "python",
   "pygments_lexer": "ipython3",
   "version": "3.7.6"
  }
 },
 "nbformat": 4,
 "nbformat_minor": 4
}
